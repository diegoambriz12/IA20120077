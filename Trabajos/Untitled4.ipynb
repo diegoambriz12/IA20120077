{
 "cells": [
  {
   "cell_type": "code",
   "execution_count": null,
   "id": "06c6de2c",
   "metadata": {},
   "outputs": [],
   "source": [
    "import cv2\n",
    "\n",
    "print(\"OpenCV version:\", cv2.__version__)\n",
    "print(\"OpenCV is installed and ready to use!\")\n"
   ]
  },
  {
   "cell_type": "code",
   "execution_count": null,
   "id": "913caa6b",
   "metadata": {},
   "outputs": [],
   "source": [
    "import numpy as np \n",
    "import cv2 as cv\n",
    "\n",
    "rostro = cv.CascadeClassifier('haarcascade_frontalface_alt.xml')\n"
   ]
  },
  {
   "cell_type": "code",
   "execution_count": null,
   "id": "690e9b4e",
   "metadata": {},
   "outputs": [],
   "source": [
    "def escala(imx, escala):\n",
    "    width = int(imx.shape[1] * escala / 100)\n",
    "    height = int(imx.shape[0] * escala / 100)\n",
    "    size = (width, height)\n",
    "    im = cv.resize(imx, size, interpolation = cv.INTER_AREA)\n",
    "    return im"
   ]
  },
  {
   "cell_type": "code",
   "execution_count": null,
   "id": "636be4cd",
   "metadata": {},
   "outputs": [],
   "source": [
    "import numpy as np \n",
    "import cv2 as cv\n",
    "\n",
    "rostro = cv.CascadeClassifier('haarcascade_frontalface_alt.xml')\n",
    "def escala(imx, escala):\n",
    "    width = int(imx.shape[1] * escala / 100)\n",
    "    height = int(imx.shape[0] * escala / 100)\n",
    "    size = (width, height)\n",
    "    im = cv.resize(imx, size, interpolation = cv.INTER_AREA)\n",
    "    return im\n",
    "cap = cv.VideoCapture(0)\n",
    "i = 0 \n",
    "while True:\n",
    "    ret, frame = cap.read()\n",
    "    gray = cv.cvtColor(frame, cv.COLOR_BGR2GRAY)\n",
    "    rostros = rostro.detectMultiScale(gray, 1.3, 5)\n",
    "    for(x, y, w, h) in rostros:\n",
    "        #frame = cv.rectangle(frame, (x,y), (x+w, y+h), (0, 255, 0), 2)\n",
    "        frame2 = frame[y:y+h, x:x+w]\n",
    "        #cv.imshow('rostros2', frame2)\n",
    "        frame2 = cv.resize(frame2, (100,100), interpolation = cv.INTER_AREA)\n",
    "        cv.imwrite('C:/Users/diego/OneDrive/Documentos/IA/Trabajos/caras/diego/diego'+str(i)+'.png', frame2)\n",
    "        \n",
    "    cv.imshow('rostros', frame)\n",
    "    i=i+1\n",
    "    k = cv.waitKey(1)\n",
    "    if k == 27:\n",
    "        break\n",
    "cap.release()\n",
    "cv.destroyAllWindows()"
   ]
  },
  {
   "cell_type": "code",
   "execution_count": 1,
   "id": "7252164c",
   "metadata": {
    "scrolled": true
   },
   "outputs": [
    {
     "name": "stdout",
     "output_type": "stream",
     "text": [
      "['diego']\n",
      "824\n"
     ]
    },
    {
     "ename": "AttributeError",
     "evalue": "module 'cv2' has no attribute 'face'",
     "output_type": "error",
     "traceback": [
      "\u001b[1;31m---------------------------------------------------------------------------\u001b[0m",
      "\u001b[1;31mAttributeError\u001b[0m                            Traceback (most recent call last)",
      "Cell \u001b[1;32mIn[1], line 20\u001b[0m\n\u001b[0;32m     17\u001b[0m     label \u001b[38;5;241m=\u001b[39m label \u001b[38;5;241m+\u001b[39m \u001b[38;5;241m1\u001b[39m\n\u001b[0;32m     18\u001b[0m \u001b[38;5;28mprint\u001b[39m(np\u001b[38;5;241m.\u001b[39mcount_nonzero(np\u001b[38;5;241m.\u001b[39marray(labels)\u001b[38;5;241m==\u001b[39m\u001b[38;5;241m0\u001b[39m)) \n\u001b[1;32m---> 20\u001b[0m faceRecognizer \u001b[38;5;241m=\u001b[39m cv\u001b[38;5;241m.\u001b[39mface\u001b[38;5;241m.\u001b[39mEigenFaceRecognizer_create()\n\u001b[0;32m     21\u001b[0m faceRecognizer\u001b[38;5;241m.\u001b[39mtrain(facesData, np\u001b[38;5;241m.\u001b[39marray(labels))\n\u001b[0;32m     22\u001b[0m faceRecognizer\u001b[38;5;241m.\u001b[39mwrite(\u001b[38;5;124m'\u001b[39m\u001b[38;5;124mdirgoface.xml\u001b[39m\u001b[38;5;124m'\u001b[39m)\n",
      "\u001b[1;31mAttributeError\u001b[0m: module 'cv2' has no attribute 'face'"
     ]
    }
   ],
   "source": [
    "import cv2 as cv \n",
    "import numpy as np \n",
    "import os\n",
    "\n",
    "dataSet = 'C:/Users/diego/OneDrive/Documentos/IA/Trabajos/caras'\n",
    "faces  = os.listdir(dataSet)\n",
    "print(faces)\n",
    "\n",
    "labels = []\n",
    "facesData = []\n",
    "label = 0 \n",
    "for face in faces:\n",
    "    facePath = dataSet+'/'+face\n",
    "    for faceName in os.listdir(facePath):\n",
    "        labels.append(label)\n",
    "        facesData.append(cv.imread(facePath+'/'+faceName,0))\n",
    "    label = label + 1\n",
    "print(np.count_nonzero(np.array(labels)==0)) \n",
    "\n",
    "faceRecognizer = cv.face.EigenFaceRecognizer_create()\n",
    "faceRecognizer.train(facesData, np.array(labels))\n",
    "faceRecognizer.write('dirgoface.xml')"
   ]
  },
  {
   "cell_type": "code",
   "execution_count": null,
   "id": "fe12089f",
   "metadata": {},
   "outputs": [],
   "source": [
    "pwd"
   ]
  },
  {
   "cell_type": "code",
   "execution_count": null,
   "id": "69157b1a",
   "metadata": {},
   "outputs": [],
   "source": []
  }
 ],
 "metadata": {
  "kernelspec": {
   "display_name": "Python 3 (ipykernel)",
   "language": "python",
   "name": "python3"
  },
  "language_info": {
   "codemirror_mode": {
    "name": "ipython",
    "version": 3
   },
   "file_extension": ".py",
   "mimetype": "text/x-python",
   "name": "python",
   "nbconvert_exporter": "python",
   "pygments_lexer": "ipython3",
   "version": "3.11.5"
  }
 },
 "nbformat": 4,
 "nbformat_minor": 5
}
