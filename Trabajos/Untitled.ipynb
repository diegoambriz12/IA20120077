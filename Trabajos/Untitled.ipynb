{
 "cells": [
  {
   "cell_type": "code",
   "execution_count": 1,
   "id": "6e4d6be1",
   "metadata": {},
   "outputs": [],
   "source": [
    "import numpy as np\n",
    "import cv2 as cv"
   ]
  },
  {
   "cell_type": "code",
   "execution_count": null,
   "id": "bef3da5e",
   "metadata": {},
   "outputs": [],
   "source": [
    "img = cv.imread('f1.jpg', 1)\n",
    "w, h=img.shape[:2]\n",
    "img2 = np.zeros((w, h), dtype=np.uint8)\n",
    "b,g,r=cv.split(img)\n",
    "cv.imshow('b', b)\n",
    "cv.imshow('g', g)\n",
    "cv.imshow('r', r)\n",
    "b1 = cv.merge([b, r, g])\n",
    "g1 = cv.merge([r, g, b])\n",
    "r1 = cv.merge([g, b, r])\n",
    "cv.imshow('b1', b1)\n",
    "cv.imshow('g1', g1)\n",
    "cv.imshow('r1', r1)\n",
    "cv.imshow('marco2', img2)\n",
    "cv.waitKey(0)\n",
    "cv.destroyAllWindows()"
   ]
  },
  {
   "cell_type": "code",
   "execution_count": null,
   "id": "d9434ea2",
   "metadata": {},
   "outputs": [],
   "source": []
  }
 ],
 "metadata": {
  "kernelspec": {
   "display_name": "Python 3 (ipykernel)",
   "language": "python",
   "name": "python3"
  },
  "language_info": {
   "codemirror_mode": {
    "name": "ipython",
    "version": 3
   },
   "file_extension": ".py",
   "mimetype": "text/x-python",
   "name": "python",
   "nbconvert_exporter": "python",
   "pygments_lexer": "ipython3",
   "version": "3.11.5"
  }
 },
 "nbformat": 4,
 "nbformat_minor": 5
}
