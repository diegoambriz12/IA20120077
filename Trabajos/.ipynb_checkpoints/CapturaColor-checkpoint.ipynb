{
 "cells": [
  {
   "cell_type": "code",
   "execution_count": null,
   "id": "77f5a17d",
   "metadata": {},
   "outputs": [],
   "source": [
    "import cv2 as cv \n",
    "\n",
    "cap = cv.VideoCapture(0)\n",
    "while(True):\n",
    "    res , img = cap.read()\n",
    "    img2=cv.cvtColor(img, cv.COLOR_BGR2HSV)\n",
    "    vb=(50, 60, 60)\n",
    "    va=(80, 255, 255)\n",
    "    mask=cv.inRange(img2, vb, va)\n",
    "    res=cv.bitwise_and(img, img, mask=mask)\n",
    "    cv.imshow('captura', img)\n",
    "    if cv.waitKey(1) &0xFF == ord('s'):\n",
    "        break\n",
    "       \n",
    "cap.release()\n",
    "cv.destroyAllWindows()"
   ]
  }
 ],
 "metadata": {
  "kernelspec": {
   "display_name": "Python 3 (ipykernel)",
   "language": "python",
   "name": "python3"
  },
  "language_info": {
   "codemirror_mode": {
    "name": "ipython",
    "version": 3
   },
   "file_extension": ".py",
   "mimetype": "text/x-python",
   "name": "python",
   "nbconvert_exporter": "python",
   "pygments_lexer": "ipython3",
   "version": "3.11.5"
  }
 },
 "nbformat": 4,
 "nbformat_minor": 5
}
