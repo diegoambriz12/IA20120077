{
 "cells": [
  {
   "cell_type": "markdown",
   "id": "c8b6957b-86d0-4ef6-862a-63c72a8ab64c",
   "metadata": {},
   "source": [
    "import cv2\n",
    "import os\n",
    "\n",
    "# Ruta de la carpeta que contiene las imágenes\n",
    "carpeta_imagenes = 'C:/Users/diego/OneDrive/Documentos/IA/Proyecto 2/Fotos/n'\n",
    "\n",
    "# Tamaño al que se redimensionarán las imágenes\n",
    "nuevo_ancho = 100\n",
    "nuevo_alto = 100\n",
    "\n",
    "# Obtener la lista de nombres de archivo de las imágenes en la carpeta\n",
    "archivos_imagenes = os.listdir(carpeta_imagenes)\n",
    "\n",
    "# Iterar sobre cada imagen y redimensionarla\n",
    "for nombre_archivo in archivos_imagenes:\n",
    "    # Construir la ruta completa de la imagen\n",
    "    ruta_imagen = os.path.join(carpeta_imagenes, nombre_archivo)\n",
    "    \n",
    "    # Leer la imagen\n",
    "    imagen = cv2.imread(ruta_imagen)\n",
    "    \n",
    "    # Redimensionar la imagen al nuevo tamaño\n",
    "    imagen_redimensionada = cv2.resize(imagen, (nuevo_ancho, nuevo_alto))\n",
    "    \n",
    "    # Guardar la imagen redimensionada en la misma ubicación\n",
    "    cv2.imwrite(ruta_imagen, imagen_redimensionada)\n",
    "\n",
    "print(\"Todas las imágenes han sido redimensionadas al tamaño especificado.\")"
   ]
  },
  {
   "cell_type": "code",
   "execution_count": 1,
   "id": "3adaa40a-02bf-4c9c-ba9f-c674f6de9c2a",
   "metadata": {},
   "outputs": [
    {
     "data": {
      "text/plain": [
       "'C:\\\\Users\\\\diego\\\\OneDrive\\\\Documentos\\\\IA\\\\Proyecto 2'"
      ]
     },
     "execution_count": 1,
     "metadata": {},
     "output_type": "execute_result"
    }
   ],
   "source": [
    "pwd"
   ]
  },
  {
   "cell_type": "code",
   "execution_count": null,
   "id": "1790bfc0-9e13-4734-991c-487cecc21f22",
   "metadata": {},
   "outputs": [],
   "source": []
  }
 ],
 "metadata": {
  "kernelspec": {
   "display_name": "Python 3 (ipykernel)",
   "language": "python",
   "name": "python3"
  },
  "language_info": {
   "codemirror_mode": {
    "name": "ipython",
    "version": 3
   },
   "file_extension": ".py",
   "mimetype": "text/x-python",
   "name": "python",
   "nbconvert_exporter": "python",
   "pygments_lexer": "ipython3",
   "version": "3.11.8"
  }
 },
 "nbformat": 4,
 "nbformat_minor": 5
}
