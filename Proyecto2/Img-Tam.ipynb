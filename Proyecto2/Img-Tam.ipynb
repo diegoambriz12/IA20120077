{
 "cells": [
  {
   "cell_type": "markdown",
   "id": "8d6854dd-721b-4445-946e-ee7c0c77b11b",
   "metadata": {},
   "source": [
    "import cv2\n",
    "import os\n",
    "\n",
    "# Ruta de la carpeta que contiene las imágenes\n",
    "carpeta_imagenes = 'C:/Users/diego/OneDrive/Documentos/IA/Proyecto 2/Fotos2/p'\n",
    "\n",
    "# Tamaño al que se redimensionarán las imágenes\n",
    "nuevo_ancho = 50\n",
    "nuevo_alto = 50\n",
    "\n",
    "# Obtener la lista de nombres de archivo de las imágenes en la carpeta\n",
    "archivos_imagenes = os.listdir(carpeta_imagenes)\n",
    "\n",
    "# Iterar sobre cada imagen y redimensionarla\n",
    "for nombre_archivo in archivos_imagenes:\n",
    "    # Construir la ruta completa de la imagen\n",
    "    ruta_imagen = os.path.join(carpeta_imagenes, nombre_archivo)\n",
    "    \n",
    "    # Leer la imagen\n",
    "    imagen = cv2.imread(ruta_imagen)\n",
    "    \n",
    "    # Redimensionar la imagen al nuevo tamaño\n",
    "    imagen_redimensionada = cv2.resize(imagen, (nuevo_ancho, nuevo_alto))\n",
    "    \n",
    "    # Guardar la imagen redimensionada en la misma ubicación\n",
    "    cv2.imwrite(ruta_imagen, imagen_redimensionada)\n",
    "\n",
    "print(\"Todas las imágenes han sido redimensionadas al tamaño especificado.\")"
   ]
  },
  {
   "cell_type": "code",
   "execution_count": 1,
   "id": "3adaa40a-02bf-4c9c-ba9f-c674f6de9c2a",
   "metadata": {},
   "outputs": [
    {
     "data": {
      "text/plain": [
       "'C:\\\\Users\\\\diego\\\\OneDrive\\\\Documentos\\\\IA\\\\Proyecto 2'"
      ]
     },
     "execution_count": 1,
     "metadata": {},
     "output_type": "execute_result"
    }
   ],
   "source": [
    "pwd"
   ]
  },
  {
   "cell_type": "code",
   "execution_count": 18,
   "id": "1790bfc0-9e13-4734-991c-487cecc21f22",
   "metadata": {},
   "outputs": [],
   "source": [
    "import numpy as np\n",
    "import cv2 as cv\n",
    "\n",
    "# Cargar el clasificador entrenado\n",
    "rostro = cv.CascadeClassifier('C:/Users/diego/OneDrive/Documentos/IA/Proyecto 2/Fotos/classifier/cascade.xml')\n",
    "\n",
    "# Cargar la imagen de Wally\n",
    "img = cv.imread('C:/Users/diego/OneDrive/Documentos/IA/Proyecto 2/wally1.jpg')\n",
    "\n",
    "# Convertir la imagen a escala de grises\n",
    "gray = cv.cvtColor(img, cv.COLOR_BGR2GRAY)\n",
    "\n",
    "# Detectar rostros en la imagen\n",
    "rostros = rostro.detectMultiScale(gray, 1.1, 40)\n",
    "\n",
    "# Procesar cada rostro detectado\n",
    "for (x, y, w, h) in rostros:\n",
    "    # Dibujar un rectángulo verde alrededor del rostro detectado\n",
    "    img = cv.rectangle(img, (x, y), (x + w, y + h), (0, 255, 0), 2)\n",
    "\n",
    "# Mostrar la imagen con los rostros detectados y los rectángulos\n",
    "cv.imshow('Wally', img)\n",
    "cv.waitKey(0)\n",
    "cv.destroyAllWindows()"
   ]
  },
  {
   "cell_type": "code",
   "execution_count": 20,
   "id": "3b417f0c-6c78-4fcf-bbfd-1eb46c04a69c",
   "metadata": {},
   "outputs": [],
   "source": [
    "# import numpy as np\n",
    "import cv2 as cv\n",
    "\n",
    "# Cargar el clasificador entrenado\n",
    "rostro = cv.CascadeClassifier('C:/Users/diego/OneDrive/Documentos/IA/Proyecto 2/cascade.xml')\n",
    "\n",
    "# Cargar la imagen de Wally\n",
    "img = cv.imread('C:/Users/diego/OneDrive/Documentos/IA/Proyecto 2/wally5.jpg')\n",
    "#C:\\Users\\diego\\OneDrive\\Documentos\\IA\\Proyecto 2\\Fotos\\classifier\n",
    "\n",
    "# Convertir la imagen a escala de grises\n",
    "gray = cv.cvtColor(img, cv.COLOR_BGR2GRAY)\n",
    "\n",
    "# Detectar rostros en la imagen\n",
    "rostros = rostro.detectMultiScale(gray, 1.1, 15)\n",
    "\n",
    "# Procesar cada rostro detectado\n",
    "for (x, y, w, h) in rostros:\n",
    "    # Dibujar un rectángulo verde alrededor del rostro detectado\n",
    "    img = cv.rectangle(img, (x, y), (x + w, y + h), (0, 255, 0), 2)\n",
    "\n",
    "# Mostrar la imagen con los rostros detectados y los rectángulos\n",
    "cv.imshow('rostros', img)\n",
    "cv.waitKey(0)\n",
    "cv.destroyAllWindows()"
   ]
  },
  {
   "cell_type": "code",
   "execution_count": null,
   "id": "4192a781-c6bb-4617-96a3-f7a1159bb917",
   "metadata": {},
   "outputs": [],
   "source": []
  },
  {
   "cell_type": "code",
   "execution_count": null,
   "id": "572e52d0-387f-47f9-bdad-cdee9ade7c71",
   "metadata": {},
   "outputs": [],
   "source": []
  }
 ],
 "metadata": {
  "kernelspec": {
   "display_name": "Python 3 (ipykernel)",
   "language": "python",
   "name": "python3"
  },
  "language_info": {
   "codemirror_mode": {
    "name": "ipython",
    "version": 3
   },
   "file_extension": ".py",
   "mimetype": "text/x-python",
   "name": "python",
   "nbconvert_exporter": "python",
   "pygments_lexer": "ipython3",
   "version": "3.11.8"
  }
 },
 "nbformat": 4,
 "nbformat_minor": 5
}
