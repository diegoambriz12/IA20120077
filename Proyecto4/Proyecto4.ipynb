{
 "cells": [
  {
   "cell_type": "code",
   "execution_count": null,
   "id": "3b1104e6-edc0-47ab-9ddd-a29a7d7d67c6",
   "metadata": {},
   "outputs": [],
   "source": [
    "import numpy as np\n",
    "import cv2 as cv\n",
    "import math \n",
    " \n",
    "cap = cv.VideoCapture(\"/home/likcos/Vídeos/rosas.mp4\")\n",
    "i=0\n",
    "while True:\n",
    "    ret, frame = cap.read()\n",
    "    cv.imshow('img', frame)\n",
    "    k = cv.waitKey(1)\n",
    "    #if k == ord('a'):\n",
    "    i=i+1    \n",
    "    cv.imwrite('/home/likcos/datasetcubre/data'+str(i)+'.jpg', frame )\n",
    "    if k == 27:\n",
    "        break\n",
    "cap.release()\n",
    "cv.destroyAllWindows()"
   ]
  },
  {
   "cell_type": "code",
   "execution_count": 3,
   "id": "951f50f3-f094-49cb-a1f3-b62802d2195c",
   "metadata": {},
   "outputs": [],
   "source": [
    "import numpy as np\n",
    "import cv2 as cv\n",
    "import math \n",
    " \n",
    "cap = cv.VideoCapture(\"C:/Users/diego/OneDrive/Documentos/IA/Proyecto4/Videos/Robo-casa.mp4\")\n",
    "i = 0\n",
    "\n",
    "while cap.isOpened():  # Mientras el video esté abierto\n",
    "    ret, frame = cap.read()\n",
    "    \n",
    "    if not ret:  # Si no se puede leer más del video, termina el bucle\n",
    "        break\n",
    "    \n",
    "    cv.imshow('img', frame)\n",
    "    k = cv.waitKey(1)\n",
    "    \n",
    "    resized_frame = cv.resize(frame, (28, 28))\n",
    "    \n",
    "    cv.imwrite(\"C:/Users/diego/OneDrive/Documentos/IA/Proyecto4/Fotos/robo_casa/frame_{}.jpg\".format(i), resized_frame)\n",
    "    \n",
    "    i += 1\n",
    "    \n",
    "    # Presiona esc para salir\n",
    "    if k == 27:\n",
    "        break\n",
    "\n",
    "cap.release()\n",
    "cv.destroyAllWindows()"
   ]
  },
  {
   "cell_type": "code",
   "execution_count": 1,
   "id": "def5fc54-f976-457e-a561-570fdc68229a",
   "metadata": {},
   "outputs": [
    {
     "data": {
      "text/plain": [
       "'C:\\\\Users\\\\diego\\\\OneDrive\\\\Documentos\\\\IA\\\\Proyecto4'"
      ]
     },
     "execution_count": 1,
     "metadata": {},
     "output_type": "execute_result"
    }
   ],
   "source": [
    "pwd"
   ]
  },
  {
   "cell_type": "code",
   "execution_count": null,
   "id": "772c5d16-b0b0-432f-9e6a-43a8b34e3299",
   "metadata": {},
   "outputs": [],
   "source": []
  }
 ],
 "metadata": {
  "kernelspec": {
   "display_name": "Python 3 (ipykernel)",
   "language": "python",
   "name": "python3"
  },
  "language_info": {
   "codemirror_mode": {
    "name": "ipython",
    "version": 3
   },
   "file_extension": ".py",
   "mimetype": "text/x-python",
   "name": "python",
   "nbconvert_exporter": "python",
   "pygments_lexer": "ipython3",
   "version": "3.11.8"
  }
 },
 "nbformat": 4,
 "nbformat_minor": 5
}
