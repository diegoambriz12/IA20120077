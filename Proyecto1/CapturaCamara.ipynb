{
 "cells": [
  {
   "cell_type": "markdown",
   "id": "b41c7d5c-a4fa-44b9-8bac-dfcae7aca24f",
   "metadata": {},
   "source": [
    "import cv2 as cv \n",
    "\n",
    "cap = cv.VideoCapture(0)\n",
    "while(True):\n",
    "    res , img = cap.read()\n",
    "    cv.imshow('captura', img)\n",
    "    if cv.waitKey(1) &0xFF == ord('s'):\n",
    "        break\n",
    "       \n",
    "cap.release()\n",
    "cv.destroyAllWindows()"
   ]
  },
  {
   "cell_type": "code",
   "execution_count": null,
   "id": "2e66cc8e",
   "metadata": {},
   "outputs": [],
   "source": []
  }
 ],
 "metadata": {
  "kernelspec": {
   "display_name": "Python 3 (ipykernel)",
   "language": "python",
   "name": "python3"
  },
  "language_info": {
   "codemirror_mode": {
    "name": "ipython",
    "version": 3
   },
   "file_extension": ".py",
   "mimetype": "text/x-python",
   "name": "python",
   "nbconvert_exporter": "python",
   "pygments_lexer": "ipython3",
   "version": "3.11.8"
  }
 },
 "nbformat": 4,
 "nbformat_minor": 5
}
